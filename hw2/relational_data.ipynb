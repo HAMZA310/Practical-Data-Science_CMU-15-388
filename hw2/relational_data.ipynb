{
 "cells": [
  {
   "cell_type": "code",
   "execution_count": 1,
   "metadata": {},
   "outputs": [],
   "source": [
    "import csv\n",
    "import sqlite3\n",
    "import pandas as pd\n",
    "import math\n",
    "import matplotlib\n",
    "import matplotlib.pyplot as plt\n",
    "%matplotlib inline\n",
    "plt.style.use('ggplot')\n",
    "matplotlib.rcParams['figure.figsize'] = (10.0, 5.0) \n"
   ]
  },
  {
   "cell_type": "markdown",
   "metadata": {},
   "source": [
    "# Relational Data and Visualization [30pts]\n",
    "In this problem, you will be analyzing the Twitter data we extracted using [this](https://dev.twitter.com/overview/api) api. The data consists of Twitter users (with unique handles) and their attributes (e.g., number of followers), some recent tweets posted by them with attributes (e.g., time stamp, number of retweets), and the follow relationship between the users. These are available in the three CSV files provided to you:\n",
    "- users.csv - users, user attributes\n",
    "- edges.csv - follow edges (directed, an edge from A to B means A follows B or B is a friend of A)\n",
    "- tweets.csv - tweets posted by the users along with its attributes"
   ]
  },
  {
   "cell_type": "markdown",
   "metadata": {},
   "source": [
    "## Q1. Relational Data [5pts + 6pts + 6pts]\n",
    "This question will guide you through loading Twitter data into an in-memory SQLite database and running some basic queries on it."
   ]
  },
  {
   "cell_type": "markdown",
   "metadata": {},
   "source": [
    "### Q1. Task A: Load Twitter data into SQLite database [5pts]\n",
    "Your first task is to use the csv and sqlite3 python packages to load the three csv files we give you as relations (or tables) into an SQLite in-memory database.\n",
    "\n",
    "Loading the data from csv file into the database involves the following steps:\n",
    "1. Identify the schema of the table (for this problem, you will only need TEXT and INTEGER attribute types)\n",
    "2. Create a table with the identified schema\n",
    "3. Load the contents of csv in memory\n",
    "4. Insert every row of csv file as a record in the table\n",
    "\n",
    "You can refer to [sqlite3 documentation](https://docs.python.org/2/library/sqlite3.html) and the class lecture for steps 2 and 4. For step 3, refer to the [csv documentation](https://docs.python.org/2/library/csv.html). Be sure to name your tables `users`, `edges`, and `tweets`. \n",
    "\n",
    "Make sure to commit (the equivalent of Ctrl+S for databases) any changes you make to the database. [This](https://www.techopedia.com/definition/16/commit) page should give you an idea about why commit is essential."
   ]
  },
  {
   "cell_type": "code",
   "execution_count": 2,
   "metadata": {},
   "outputs": [],
   "source": [
    "def load_twitter_data_sqlite3(conn, users_filepath, edges_filepath, tweets_filepath):\n",
    "    \"\"\" Load twitter data in the three files as tables into an in-memory SQLite database\n",
    "    Input:\n",
    "        conn (sqlite3.Connection) : Connection object corresponding to the database; used to perform SQL commands.\n",
    "        users_filepath (str) : absolute/relative path to usersCopy.csv file\n",
    "        edges_filepath (str) : absolute/relative path to edgesCopy.csv file\n",
    "        tweets_filepath (str) : absolute/relative path to tweetsCopy.csv file\n",
    "    Output:\n",
    "        None\n",
    "    \"\"\"\n",
    "    cursor = conn.cursor()\n",
    "    \n",
    "    ## users table\n",
    "    cursor.execute(\"\"\"\n",
    "    CREATE TABLE users (\n",
    "        name TEXT,\n",
    "        screen_name TEXT, \n",
    "        location TEXT, \n",
    "        created_at TEXT, \n",
    "        friends_count TEXT, \n",
    "        followers_count TEXT, \n",
    "        statuses_count TEXT, \n",
    "        favourites_count TEXT\n",
    "    );\"\"\")\n",
    "    \n",
    "    \n",
    "    ## edges table\n",
    "    cursor.execute(\"\"\"\n",
    "    CREATE TABLE edges (\n",
    "        screen_name TEXT,\n",
    "        friend TEXT\n",
    "    );\"\"\")\n",
    "    \n",
    "    \n",
    "    ##tweets table\n",
    "    cursor.execute(\"\"\"\n",
    "    CREATE TABLE tweets (\n",
    "    screen_name TEXT,\n",
    "    created_at TEXT,\n",
    "    retweet_count TEXT,\n",
    "    favorite_count TEXT,\n",
    "    text TEXT\n",
    "    );\"\"\")\n",
    "    \n",
    "    conn.commit()\n",
    "    \n",
    "    with open(users_filepath) as users_csv:\n",
    "        users_file = csv.reader(users_csv)\n",
    "        count, iterat = 0, 0\n",
    "        for row in users_file:\n",
    "            if (count == 0): # ignore column names \n",
    "                count = 1\n",
    "                continue\n",
    "            cursor.executemany(\"INSERT INTO users VALUES (?,?,?,?,?,?,?,?)\", [tuple(row)]) \n",
    "    \n",
    "    \n",
    "    with open(tweets_filepath) as tweets_csv:\n",
    "        tweets_file = csv.reader(tweets_csv)\n",
    "        for row in tweets_file:\n",
    "            cursor.executemany(\"INSERT INTO tweets VALUES (?, ?, ?, ?, ?)\", [tuple(row)])\n",
    "        \n",
    "    with open(edges_filepath) as edges_csv:\n",
    "        edges_csv = csv.reader(edges_csv)\n",
    "        for row in edges_csv:\n",
    "            cursor.executemany(\"INSERT INTO edges VALUES (?, ?)\", [tuple(row)])\n",
    "    conn.commit()\n",
    "    \n",
    "          \n",
    "        \n",
    "        \n",
    "def main():\n",
    "    conn = sqlite3.connect(\":memory:\")\n",
    "    users_filepath = \"/Users/hamzaliaqet/Downloads/ML_PATH/15388/hw2/users.csv\"\n",
    "    tweets_filepath = \"/Users/hamzaliaqet/Downloads/ML_PATH/15388/hw2/tweets.csv\"\n",
    "    edges_filepath = \"/Users/hamzaliaqet/Downloads/ML_PATH/15388/hw2/edges.csv\"\n",
    "    c = load_twitter_data_sqlite3(conn, users_filepath, edges_filepath, tweets_filepath)\n",
    "\n",
    "\n",
    "    \n"
   ]
  },
  {
   "cell_type": "markdown",
   "metadata": {},
   "source": [
    "Your function will be called as in the cell below. The cell also contains some test code to display all tables in the database. You may want to write you own tests for the individual tables to verify that the data has been loaded properly. (e.g., number of tuples in each table)"
   ]
  },
  {
   "cell_type": "code",
   "execution_count": 3,
   "metadata": {},
   "outputs": [
    {
     "name": "stdout",
     "output_type": "stream",
     "text": [
      "('users',)\n",
      "('edges',)\n",
      "('tweets',)\n"
     ]
    }
   ],
   "source": [
    "# AUTOLAB_IGNORE_START\n",
    "# connect to an in memory database\n",
    "conn = sqlite3.connect(\":memory:\")\n",
    "conn.text_factory = str\n",
    "# call to your function\n",
    "load_twitter_data_sqlite3(conn, 'users.csv', 'edges.csv', 'tweets.csv')\n",
    "# make sure to change the path to csv files appropriately\n",
    "cursor = conn.cursor()\n",
    "# prints all tables in the database\n",
    "for row in cursor.execute(\"SELECT name FROM sqlite_master WHERE type = 'table';\"):\n",
    "    print (row)\n",
    "# for row in cursor.execute('SELECT * FROM tweets'):\n",
    "#         print (row)\n",
    "# AUTOLAB_IGNORE_STOP"
   ]
  },
  {
   "cell_type": "markdown",
   "metadata": {},
   "source": [
    "### Q1. Task B: Trending tweets in a topic [6pts]\n",
    "Twitter is regarded as an invaluable source of valuable information. Hence, one of the favorite tasks of data miners is the analyse the trending tweets in a given topic.\n",
    "\n",
    "This task requires you to retrieve the top N most trending tweets (in descending order of trending_score) about a given topic (which is a list of keywords). The following information may be useful:\n",
    "\n",
    "- A tweet is said to be about a given topic if it contains any of the given topical phrases/keywords.\n",
    "- We will use the following simple trending_score: retweet_count + favorite_count. Tweets with higher trending_score must be ranked before the ones with lower trending_score.\n",
    "- Your result must contain unique tweets. If a tweet text occurs multiple times, display it only once with its highest trending_score.\n",
    "- Break ties by sorting the tweets in alphabetical order.\n",
    "\n",
    "The output schema should be as follows:\n",
    "\n",
    "|tweet (TEXT)| trending_score (INTEGER) |\n",
    "| :--- |:--- |\n",
    "| | |"
   ]
  },
  {
   "cell_type": "code",
   "execution_count": 4,
   "metadata": {},
   "outputs": [],
   "source": [
    "def trending_tweets(cursor, topical_phrases=['Hillary', 'Clinton'], N=5):\n",
    "    \"\"\" Retrieves the top N trending tweets containing one or more of the given topical phrases.\n",
    "    Input:\n",
    "        cursor (sqlite3.Cursor): Cursor object to query the database.\n",
    "        topical_phrases (list of strings): A list of keywords identifying a topic.\n",
    "        N: Number of trending tweets to retrieve\n",
    "    Output:\n",
    "        results (sqlite3.Cursor): Cursor object which can be used to iterate over the retrieved records/tuples.\n",
    "    \"\"\"\n",
    "\n",
    "        \n",
    "    query = \"SELECT DISTINCT text, (retweet_count + favorite_count) FROM tweets WHERE (text LIKE '%Hillary%' OR text LIKE '%Clinton%') AND (retweet_count + favorite_count) <= (SELECT MAX(retweet_count + favorite_count) from tweets WHERE retweet_count IN (SELECT CAST(retweet_count AS INT) FROM tweets) AND favorite_count IN (SELECT CAST(favorite_count AS INT) FROM tweets)) ORDER BY ((retweet_count + favorite_count)) DESC limit 5\"\n",
    "    results = cursor.execute(query)\n",
    "    return results\n",
    "\n",
    "\n",
    "def main():\n",
    "    conn = sqlite3.connect(\":memory:\")\n",
    "    cursor = conn.cursor()\n",
    "    users_filepath = \"/Users/hamzaliaqet/Downloads/ML_PATH/15388/hw2/users.csv\"\n",
    "    tweets_filepath = \"/Users/hamzaliaqet/Downloads/ML_PATH/15388/hw2/tweets.csv\"\n",
    "    edges_filepath = \"/Users/hamzaliaqet/Downloads/ML_PATH/15388/hw2/edges.csv\"\n",
    "    load_twitter_data_sqlite3(conn, users_filepath,edges_filepath, tweets_filepath)\n",
    "\n"
   ]
  },
  {
   "cell_type": "markdown",
   "metadata": {},
   "source": [
    "The default inputs to the function will retrieve 5 trending tweets about topic Hillary Clinton. You can view the output of your query using the following code."
   ]
  },
  {
   "cell_type": "code",
   "execution_count": 5,
   "metadata": {},
   "outputs": [],
   "source": [
    "# AUTOLAB_IGNORE_START\n",
    "# results = trending_tweets(conn.cursor())\n",
    "# for row in results:\n",
    "#     print (row)\n",
    "# AUTOLAB_IGNORE_STOP"
   ]
  },
  {
   "cell_type": "markdown",
   "metadata": {},
   "source": [
    "### Q1. Task C: Tweet recommendation [6pts]\n",
    "How does Twitter go about populating the feed for a user? While Twitter may use a comple models to do this, in this task, we will use a Simple Tweet Recommender (STR), which recommends a user's tweets to all users who follow him/her (without checking for possible duplicates; i.e., STR may recommend the same tweet twice if two of a user's friends have posted it).\n",
    "\n",
    "In this task, you will write a query to determine the number of tweets recommended to each user. Use only the snapshot of edges and tweets we have provided to you to do the recommendation. Report the results on the users present in the users table. (Hint: The number of records in your output should match that in the \"users\" table.) The order of results does not matter.\n",
    "\n",
    "The output schema should be:\n",
    "\n",
    "|screen_name (TEXT)| num_tweets (INTEGER) |\n",
    "| :--- |:--- |\n",
    "| | | |\n"
   ]
  },
  {
   "cell_type": "code",
   "execution_count": 6,
   "metadata": {},
   "outputs": [],
   "source": [
    "#UNRESOLVED\n",
    "\n",
    "def num_tweets_in_feed(cursor):\n",
    "    \"\"\" Retrieves the number of tweets STR recommends to each Twitter user.\n",
    "    Input:\n",
    "        cursor (sqlite3.Cursor): Cursor object to query the database.\n",
    "    Output:\n",
    "        results (sqlite3.Cursor): Cursor object which can be used to iterate over the retrieved records/tuples.\n",
    "    \"\"\"\n",
    "    query = \"\" # your query here\n",
    "    return cursor.execute(query)\n",
    "\n",
    "\n",
    "\n",
    "\n",
    "def main():\n",
    "    conn = sqlite3.connect(\":memory:\")\n",
    "    cursor = conn.cursor()\n",
    "    users_filepath = \"/Users/hamzaliaqet/Downloads/ML_PATH/15388/hw2/users.csv\"\n",
    "    edges_filepath = \"/Users/hamzaliaqet/Downloads/ML_PATH/15388/hw2/edges.csv\"\n",
    "    tweets_filepath = \"/Users/hamzaliaqet/Downloads/ML_PATH/15388/hw2/tweets.csv\"\n",
    "    load_twitter_data_sqlite3(conn, users_filepath,edges_filepath, tweets_filepath)\n",
    "    i = 0\n",
    "    \n",
    "\n",
    "    \n",
    "    for row in cursor.execute(\"SELECT screen_name from tweets WHERE (SELECT COUNT(*) from tweets) > 5491\"):\n",
    "        print(row)\n",
    "        if i > 100000:\n",
    "            break\n",
    "        i = i + 1\n",
    "    print(i)\n",
    "    \n",
    "\n"
   ]
  },
  {
   "cell_type": "markdown",
   "metadata": {},
   "source": [
    "## Q2. Visualization [2pts + 7pts + 4pts]\n",
    "In this question, you will load all data into pandas dataframes and analyse (and visualize!) some interesting trends using [matplotlib](http://matplotlib.org) python package."
   ]
  },
  {
   "cell_type": "markdown",
   "metadata": {},
   "source": [
    "### Q2. Task A: Load Twitter data using pandas [2pts]\n",
    "Fill in the following method stub and return the data frames for users, edges and tweets.\n",
    "\n",
    "Pandas will treat missing values as NaNs by default. However, for this assignment, you should treat missing values (i.e., empty strings in the csv files) as empty strings."
   ]
  },
  {
   "cell_type": "code",
   "execution_count": 7,
   "metadata": {},
   "outputs": [
    {
     "name": "stdout",
     "output_type": "stream",
     "text": [
      "<class 'pandas.core.series.Series'>\n"
     ]
    }
   ],
   "source": [
    "def load_twitter_data_pandas(users_filepath, edges_filepath, tweets_filepath):\n",
    "    \"\"\" Loads the Twitter data from the csv files into Pandas dataframes\n",
    "    Input:\n",
    "        users_filepath (str) : absolute/relative path to users.csv file\n",
    "        edges_filepath (str) : absolute/relative path to edges.csv file\n",
    "        tweets_filepath (str) : absolute/relative path to tweets.csv file\n",
    "    Output:\n",
    "        (pd.DataFrame, pd.DataFrame, pd.DataFrame) : A tuple of three dataframes, the first one for users,\n",
    "                                                    the second for edges and the third for tweets.\n",
    "    \"\"\"\n",
    "    \n",
    "    users_frame = pd.read_csv(users_filepath)\n",
    "    edges_frame = pd.read_csv(edges_filepath)\n",
    "    tweets_frame = pd.read_csv(tweets_filepath)\n",
    "\n",
    "    return (users_frame, edges_frame,tweets_frame)\n",
    "\n",
    "def main():\n",
    "    users_filepath = \"/Users/hamzaliaqet/Downloads/ML_PATH/15388/hw2/users.csv\"\n",
    "    edges_filepath = \"/Users/hamzaliaqet/Downloads/ML_PATH/15388/hw2/edges.csv\"\n",
    "    tweets_filepath = \"/Users/hamzaliaqet/Downloads/ML_PATH/15388/hw2/tweets.csv\"\n",
    "\n",
    "    x, y, z =load_twitter_data_pandas(users_filepath, edges_filepath, tweets_filepath)\n",
    "    print(type(x.friends_count))\n",
    "main()\n"
   ]
  },
  {
   "cell_type": "markdown",
   "metadata": {},
   "source": [
    "You can test your function using the following code."
   ]
  },
  {
   "cell_type": "code",
   "execution_count": 8,
   "metadata": {},
   "outputs": [],
   "source": [
    "# AUTOLAB_IGNORE_START\n",
    "(users_df, edges_df, tweets_df) = load_twitter_data_pandas('users.csv', 'edges.csv', 'tweets.csv')\n",
    "# make sure to change the path to csv files appropriately\n",
    "# print (users_df.head())\n",
    "# print (edges_df.head())\n",
    "# print (tweets_df.head())\n",
    "# # AUTOLAB_IGNORE_STOP"
   ]
  },
  {
   "cell_type": "markdown",
   "metadata": {},
   "source": [
    "### Q2. Task B: Correlation [4pts + 3pts]\n",
    "Statisticians and data analysts usually like to study about correlation between different observed variables. This helps uncover interesting patterns in the data such as causal relationships (e.g., snow on the road leads to increase in number of accidents). Correlation studies are important for multiple reasons:\n",
    "- While [correlation does not imply causation](https://en.wikipedia.org/wiki/Correlation_does_not_imply_causation), a lack of correlation implies a lack of causation. This can be used to rule out many causal relationships.\n",
    "- Correlation helps with prediction. The more closely related two variables are, the easier it is to predict one from the other.\n",
    "\n",
    "In this task, we ask you to plot the friends_count (on y-axis) vs the followers_count (on x-axis) using the matplotlib package. [Here](http://matplotlib.org/examples/shapes_and_collections/scatter_demo.html) is an example to get started with scatter plots."
   ]
  },
  {
   "cell_type": "code",
   "execution_count": 9,
   "metadata": {},
   "outputs": [
    {
     "data": {
      "image/png": "[encoded data removed]",
      "text/plain": [
       "<Figure size 432x288 with 1 Axes>"
      ]
     },
     "metadata": {},
     "output_type": "display_data"
    }
   ],
   "source": [
    "import numpy as np\n",
    "\n",
    "\n",
    "def plot_friends_vs_followers(users_df):\n",
    "    \"\"\" Plots the friends_count (on y-axis) against the followers_count (on x-axis).\n",
    "    Input:\n",
    "        users_df (pd.DataFrame) : Dataframe containing Twitter user attributes,\n",
    "                                    as returned by load_twitter_data_pandas()\n",
    "    Output:\n",
    "        (matplotlib.collections.PathCollection) : The object returned by the scatter plot function\n",
    "    \"\"\"\n",
    "    return plt.scatter(users_df.followers_count, users_df.friends_count, s=10)\n",
    "\n",
    "\n",
    "\n",
    "def main():\n",
    "    users_filepath = \"/Users/hamzaliaqet/Downloads/ML_PATH/15388/hw2/users.csv\"\n",
    "    edges_filepath = \"/Users/hamzaliaqet/Downloads/ML_PATH/15388/hw2/edges.csv\"\n",
    "    tweets_filepath = \"/Users/hamzaliaqet/Downloads/ML_PATH/15388/hw2/tweets.csv\"\n",
    "    users_df, _, _  =load_twitter_data_pandas(users_filepath, edges_filepath, tweets_filepath)\n",
    "    #print(len(users_df.followers_count))\n",
    "    plot_friends_vs_followers(users_df)\n",
    "\n",
    "\n",
    "main()\n",
    "# # AUTOLAB_IGNORE_START\n",
    "# p = plot_friends_vs_followers(users_df)\n",
    "# plt.show()\n",
    "# # AUTOLAB_IGNORE_STOP"
   ]
  },
  {
   "cell_type": "markdown",
   "metadata": {},
   "source": [
    "Do you see a correlation between these two variables from your scatter plot? Let's measure this quantitatively using the [Pearson's correlation coefficient](https://en.wikipedia.org/wiki/Pearson_product-moment_correlation_coefficient). \n",
    "\n",
    "For a set of observations $(X,Y) = [(x_1,y_1), (x_2,y_2), ... , (x_n,y_n)]$, the Pearson's correlation coefficient is a measure of the linear dependence between two variables $X$ and $Y$, giving a value between +1 and −1 inclusive, where 1 is total positive correlation, 0 is no correlation, and −1 is total negative correlation.\n",
    "\n",
    "$r=r_{xy}={\\frac {n\\sum x_{i}y_{i}-\\sum x_{i}\\sum y_{i}}{{\\sqrt {n\\sum x_{i}^{2}-(\\sum x_{i})^{2}}}~{\\sqrt {n\\sum y_{i}^{2}-(\\sum y_{i})^{2}}}}}$\n",
    "\n",
    "Now, fill in the following function to compute the Pearson's correlation coefficient between friends_count and followers_count."
   ]
  },
  {
   "cell_type": "code",
   "execution_count": 10,
   "metadata": {},
   "outputs": [
    {
     "name": "stdout",
     "output_type": "stream",
     "text": [
      "1.096678820583905\n"
     ]
    },
    {
     "name": "stderr",
     "output_type": "stream",
     "text": [
      "/usr/local/lib/python3.6/site-packages/ipykernel_launcher.py:31: RuntimeWarning: overflow encountered in long_scalars\n",
      "/usr/local/lib/python3.6/site-packages/ipykernel_launcher.py:34: RuntimeWarning: overflow encountered in long_scalars\n"
     ]
    }
   ],
   "source": [
    "def correlation_coefficient(users_df):\n",
    "    \"\"\" Plots the friends_count (on y-axis) against the followers_count (on x-axis).\n",
    "    Input:\n",
    "        users_df (pd.DataFrame) : Dataframe containing Twitter user attributes,\n",
    "                                    as returned by load_twitter_data_pandas()\n",
    "    Output:\n",
    "        (double) : correlation coefficient between friends_count and followers_count\n",
    "    \"\"\"\n",
    "    xi = users_df.friends_count\n",
    "#     print(xi)\n",
    "    xi_sum = np.sum(xi)\n",
    "\n",
    "\n",
    "    yi = users_df.followers_count\n",
    "    yi_sum = np.sum(yi)\n",
    "    \n",
    "    xi_times_yi = xi * yi\n",
    "\n",
    "\n",
    "    sum_xi_times_yi = np.sum(xi_times_yi)\n",
    "    \n",
    "    n = len(xi)\n",
    "    n2 = len(yi)\n",
    "    xi_sq = xi * xi\n",
    "    yi_sq = yi * yi\n",
    "    \n",
    "    sum_xi_sq = np.sum(xi_sq)\n",
    "    sq_xi_sum = xi_sum * xi_sum\n",
    "    \n",
    "    sum_yi_sq = np.sum(yi_sq)\n",
    "    sq_yi_sum = yi_sum * yi_sum    \n",
    "    \n",
    "    numrtr = (n * sum_xi_times_yi) - (xi_sum * yi_sum)\n",
    "    denom = (np.sqrt((n * sum_xi_sq) - (sq_xi_sum))) * (np.sqrt((n * sum_yi_sq) - (sq_yi_sum)))\n",
    "    if denom != 0:\n",
    "        return numrtr/denom\n",
    "    else:\n",
    "        return -1\n",
    "def main():\n",
    "    users_filepath = \"/Users/hamzaliaqet/Downloads/ML_PATH/15388/hw2/users.csv\"\n",
    "    edges_filepath = \"/Users/hamzaliaqet/Downloads/ML_PATH/15388/hw2/edges.csv\"\n",
    "    tweets_filepath = \"/Users/hamzaliaqet/Downloads/ML_PATH/15388/hw2/tweets.csv\"\n",
    "    users_df, _, _  =load_twitter_data_pandas(users_filepath, edges_filepath, tweets_filepath)\n",
    "    \n",
    "    cof = correlation_coefficient(users_df)\n",
    "    print(cof)\n",
    "    \n",
    "    \n",
    "# AUTOLAB_IGNORE_START\n",
    "print (correlation_coefficient(users_df))\n",
    "# AUTOLAB_IGNORE_STOP"
   ]
  },
  {
   "cell_type": "markdown",
   "metadata": {},
   "source": [
    "### Q2. Task C: Degree distribution [4pts]\n",
    "If you are not familiar with graph theory and/or graph mining, skip the first paragraph.\n",
    "\n",
    "As you're familiar with graphs, you might know that the degree of a node is the number of connections it has to other nodes. A common statistic to look out for in the case of real world graphs is the degree distribution. Literature says degrees of nodes in real world graphs follow a [power law distribution](https://en.wikipedia.org/wiki/Power_law). The implication is that a scatter plot of num_users versus k (as we will define below) yields an almost straight line. In this task, we shall verify whether the given crawl of Twitter network satisfies this property.\n",
    "\n",
    "Let us call the number of friends a Twitter user has as his/her degree. The degree distribution is a histogram of the number of friends. Your task is to visualize this histogram. Use the default number of bins."
   ]
  },
  {
   "cell_type": "code",
   "execution_count": null,
   "metadata": {},
   "outputs": [],
   "source": [
    "def degree_distribution(edges_df):\n",
    "    \"\"\" Plots the distribution of .\n",
    "    Input:\n",
    "        edges_df (pd.DataFrame) : Dataframe containing Twitter edges,\n",
    "                        as returned by load_twitter_data_pandas()\n",
    "    Output:\n",
    "        (array, array, list of Patch objects) : Tuple of the values of the histogram bins, \n",
    "                        the edges of the bins and the silent list of individual patches used to create the histogram.\n",
    "    \"\"\"\n",
    "    return plt.hist(edges_df.screen_name)\n",
    "\n",
    "\n",
    "\n",
    "def main():\n",
    "    users_filepath = \"/Users/hamzaliaqet/Downloads/ML_PATH/15388/hw2/usersCopy.csv\"\n",
    "    edges_filepath = \"/Users/hamzaliaqet/Downloads/ML_PATH/15388/hw2/edgesCopy.csv\"\n",
    "    tweets_filepath = \"/Users/hamzaliaqet/Downloads/ML_PATH/15388/hw2/tweetsCopy.csv\"\n",
    "    _, edges_df, _  = load_twitter_data_pandas(users_filepath, edges_filepath, tweets_filepath)\n",
    "    plt.hist(edges_df)\n",
    "    \n",
    "    \n",
    "main()\n",
    "# AUTOLAB_IGNORE_START\n",
    "#degree_distribution(edges_df)\n",
    "# AUTOLAB_IGNORE_STOP"
   ]
  },
  {
   "cell_type": "markdown",
   "metadata": {},
   "source": [
    "Do you notice any surprising/unexpected pattern? What can you say about the way in which the Twitter data was collected?"
   ]
  }
 ],
 "metadata": {
  "anaconda-cloud": {},
  "kernelspec": {
   "display_name": "Python 3",
   "language": "python",
   "name": "python3"
  },
  "language_info": {
   "codemirror_mode": {
    "name": "ipython",
    "version": 3
   },
   "file_extension": ".py",
   "mimetype": "text/x-python",
   "name": "python",
   "nbconvert_exporter": "python",
   "pygments_lexer": "ipython3",
   "version": "3.6.5"
  }
 },
 "nbformat": 4,
 "nbformat_minor": 1
}
